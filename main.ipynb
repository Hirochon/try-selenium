{
 "cells": [
  {
   "cell_type": "code",
   "execution_count": 4,
   "id": "261f2e2c",
   "metadata": {},
   "outputs": [
    {
     "name": "stdout",
     "output_type": "stream",
     "text": [
      "connectiong to remote browser...\n",
      "https://qiita.com/Hirochon\n",
      "https://qiita.com/Hirochon/items/6c08c987f1462a76c461\n",
      "実例から学ぼう！競プロの最悪な歩み方\n"
     ]
    }
   ],
   "source": [
    "from selenium import webdriver\n",
    "from selenium.webdriver.common.by import By\n",
    "\n",
    "# x. Chrome の起動オプションを設定する\n",
    "options = webdriver.ChromeOptions()\n",
    "options.add_argument('--headless')\n",
    "\n",
    "# x. ブラウザの新規ウィンドウを開く\n",
    "print('connectiong to remote browser...')\n",
    "driver = webdriver.Remote(\n",
    "    command_executor='http://localhost:4444/wd/hub',\n",
    "    options=options,\n",
    ")\n",
    "\n",
    "# 1. Qiita の Chanmoro のプロフィールページにアクセスする\n",
    "driver.get('https://qiita.com/Hirochon')\n",
    "print(driver.current_url)\n",
    "\n",
    "# 2. 「最近の記事」に表示されている記事一覧の 2 ページ目に移動する\n",
    "driver.find_element(By.XPATH, '//a[@class=\"css-2p454n\" and text()=\"実例から学ぼう！競プロの最悪な歩み方\"]').click()\n",
    "print(driver.current_url)\n",
    "\n",
    "# 3. 2 ページ目の一番最初に表示されている記事のタイトルを URL を取得する\n",
    "# article_title = driver.find_elements(By.XPATH, '//h1[@class=\"css-8py6gv\"]')\n",
    "article_title = driver.find_elements(By.XPATH, '//h1')\n",
    "print(article_title[0].text)\n",
    "\n",
    "# x. ブラウザを終了する\n",
    "driver.quit()"
   ]
  },
  {
   "cell_type": "code",
   "execution_count": null,
   "id": "9b8ab975",
   "metadata": {},
   "outputs": [],
   "source": []
  }
 ],
 "metadata": {
  "kernelspec": {
   "display_name": "Python 3 (ipykernel)",
   "language": "python",
   "name": "python3"
  },
  "language_info": {
   "codemirror_mode": {
    "name": "ipython",
    "version": 3
   },
   "file_extension": ".py",
   "mimetype": "text/x-python",
   "name": "python",
   "nbconvert_exporter": "python",
   "pygments_lexer": "ipython3",
   "version": "3.11.0"
  }
 },
 "nbformat": 4,
 "nbformat_minor": 5
}
